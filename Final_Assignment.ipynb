{
 "cells": [
  {
   "cell_type": "markdown",
   "metadata": {},
   "source": [
    "# Final Assignment - Capstone Project\n",
    "## A description of the problem and a discussion of the background.\n",
    "New data scientist in the city.\n",
    "### Background\n",
    "Tom has recently moved to Bangkok for the position of data scientist in multinational company. Since he's never been to Bangkok before, he would like to explore where who could live happily. He knows that his company is located near metro line, \"BTS Sukhumvit Line\" at \"Asok Station\" and it would save him a lot of money and time by commuting to his workplace via mass transit system instead of driving a car in one of the worst traffic city. He does concern on living expense and would like to live where rental and food are cheap as long as the commute time is not more than 30 mins (which is approximately 12 stations away from \"Asok Station\") and have similar characteristics as his office areas where he considered as central business district.\n",
    "\n",
    "<img src=https://upload.wikimedia.org/wikipedia/commons/thumb/0/0d/BTS_Sukhumvit.jpg/300px-BTS_Sukhumvit.jpg>\n",
    "\n",
    "### Problem Statement\n",
    "The problem is to find neighborhood represented by station which met his criteria and have similar characteristics as \"Asok Station\".\n",
    "\n",
    "## A description of the data and how it will be used to solve the problem.\n",
    "\n",
    "Location of each \"BTS Sukhumvit Line\" station: Prepared data in CSV format containing sequence of station, name of station, latitude and longitude of station. This location data will be used as an input for Foursquare API to explore the venues around each station and then cluster them to find each station's characteristics. After that, sample 10 restaurants around each station with the same cluster as \"Asok Station\" to find neighborhood with cheaper living expense based on price tier of each restaurant, assuming price of restaurant represent both rental and food expenses around that area. Finally, select neighborhood that met all criteria which is:\n",
    "\n",
    "1. Same cluster as \"Asok Station\"\n",
    "2. Lowest average price tier\n",
    "3. Within range of 12 stations away from \"Asok Station\""
   ]
  },
  {
   "cell_type": "markdown",
   "metadata": {},
   "source": [
    "## Load Data\n",
    "### Preloading Libraries"
   ]
  },
  {
   "cell_type": "code",
   "execution_count": 1,
   "metadata": {},
   "outputs": [],
   "source": [
    "import pandas as pd"
   ]
  },
  {
   "cell_type": "code",
   "execution_count": 2,
   "metadata": {},
   "outputs": [
    {
     "data": {
      "text/html": [
       "<div>\n",
       "<style scoped>\n",
       "    .dataframe tbody tr th:only-of-type {\n",
       "        vertical-align: middle;\n",
       "    }\n",
       "\n",
       "    .dataframe tbody tr th {\n",
       "        vertical-align: top;\n",
       "    }\n",
       "\n",
       "    .dataframe thead th {\n",
       "        text-align: right;\n",
       "    }\n",
       "</style>\n",
       "<table border=\"1\" class=\"dataframe\">\n",
       "  <thead>\n",
       "    <tr style=\"text-align: right;\">\n",
       "      <th></th>\n",
       "      <th>Sequence</th>\n",
       "      <th>Station Name</th>\n",
       "      <th>Latitude</th>\n",
       "      <th>Longitude</th>\n",
       "    </tr>\n",
       "  </thead>\n",
       "  <tbody>\n",
       "    <tr>\n",
       "      <th>0</th>\n",
       "      <td>1</td>\n",
       "      <td>Ha Yaek Lat Phrao</td>\n",
       "      <td>13.647363</td>\n",
       "      <td>100.596153</td>\n",
       "    </tr>\n",
       "    <tr>\n",
       "      <th>1</th>\n",
       "      <td>2</td>\n",
       "      <td>Mo Chit</td>\n",
       "      <td>13.802583</td>\n",
       "      <td>100.553833</td>\n",
       "    </tr>\n",
       "    <tr>\n",
       "      <th>2</th>\n",
       "      <td>3</td>\n",
       "      <td>Saphan Khwai</td>\n",
       "      <td>13.793800</td>\n",
       "      <td>100.549731</td>\n",
       "    </tr>\n",
       "    <tr>\n",
       "      <th>3</th>\n",
       "      <td>4</td>\n",
       "      <td>Ari</td>\n",
       "      <td>13.779703</td>\n",
       "      <td>100.544642</td>\n",
       "    </tr>\n",
       "    <tr>\n",
       "      <th>4</th>\n",
       "      <td>5</td>\n",
       "      <td>Sanam Pao</td>\n",
       "      <td>13.772622</td>\n",
       "      <td>100.542092</td>\n",
       "    </tr>\n",
       "  </tbody>\n",
       "</table>\n",
       "</div>"
      ],
      "text/plain": [
       "   Sequence       Station Name   Latitude   Longitude\n",
       "0         1  Ha Yaek Lat Phrao  13.647363  100.596153\n",
       "1         2            Mo Chit  13.802583  100.553833\n",
       "2         3       Saphan Khwai  13.793800  100.549731\n",
       "3         4                Ari  13.779703  100.544642\n",
       "4         5          Sanam Pao  13.772622  100.542092"
      ]
     },
     "execution_count": 2,
     "metadata": {},
     "output_type": "execute_result"
    }
   ],
   "source": [
    "Sukhumvit_Stations = pd.read_csv('Sukhumvit_Line.csv')\n",
    "Sukhumvit_Stations.head()"
   ]
  },
  {
   "cell_type": "code",
   "execution_count": null,
   "metadata": {},
   "outputs": [],
   "source": []
  }
 ],
 "metadata": {
  "kernelspec": {
   "display_name": "Python",
   "language": "python",
   "name": "conda-env-python-py"
  },
  "language_info": {
   "codemirror_mode": {
    "name": "ipython",
    "version": 3
   },
   "file_extension": ".py",
   "mimetype": "text/x-python",
   "name": "python",
   "nbconvert_exporter": "python",
   "pygments_lexer": "ipython3",
   "version": "3.6.7"
  }
 },
 "nbformat": 4,
 "nbformat_minor": 4
}
