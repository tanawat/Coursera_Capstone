{
 "cells": [
  {
   "cell_type": "markdown",
   "metadata": {},
   "source": [
    "# Final Assignment - Capstone Project\n",
    "## A description of the problem and a discussion of the background.\n",
    "New data scientist in the city.\n",
    "### Background\n",
    "Tom has recently moved to Bangkok for the position of data scientist in multinational company. Since he's never been to Bangkok before, he would like to explore where who could live happily. He knows that his company is located near metro line, \"BTS Sukhumvit Line\" at \"Asok Station\" and it would save him a lot of money and time by commuting to his workplace via mass transit system instead of driving a car in one of the worst traffic city. He does concern on living expense and would like to live where rental and food are cheap as long as the commute time is not more than 30 mins (which is approximately 12 stations away from \"Asok Station\") and have similar characteristics as his office areas where he considered as central business district.\n",
    "\n",
    "<img src=https://upload.wikimedia.org/wikipedia/commons/thumb/0/0d/BTS_Sukhumvit.jpg/300px-BTS_Sukhumvit.jpg>\n",
    "\n",
    "### Problem Statement\n",
    "The problem is to find neighborhood represented by station which met his criteria and have similar characteristics as \"Asok Station\".\n",
    "\n",
    "## A description of the data and how it will be used to solve the problem.\n",
    "\n",
    "Location of each \"BTS Sukhumvit Line\" station: Prepared data in CSV format containing sequence of station, name of station, latitude and longitude of station. This location data will be used as an input for Foursquare API to explore the venues around each station and then cluster them to find each station's characteristics. After that, sample restaurant around each station with the same cluster as \"Asok Station\" to find neighborhood with cheaper living expense based on price tier of eacg restaurant, assuming price of restaurant represent both rental and food expenses around that area. Finally, select neighborhood that met all criteria."
   ]
  },
  {
   "cell_type": "markdown",
   "metadata": {},
   "source": [
    "## Load Data\n",
    "### Preloading Libraries"
   ]
  },
  {
   "cell_type": "code",
   "execution_count": 1,
   "metadata": {},
   "outputs": [],
   "source": [
    "import pandas as pd"
   ]
  },
  {
   "cell_type": "code",
   "execution_count": null,
   "metadata": {},
   "outputs": [],
   "source": [
    "Sukhumvit_Stations = pd.read_csv('Sukhumvit_Line.csv')\n",
    "Sukhumvit_St"
   ]
  }
 ],
 "metadata": {
  "kernelspec": {
   "display_name": "Python",
   "language": "python",
   "name": "conda-env-python-py"
  },
  "language_info": {
   "codemirror_mode": {
    "name": "ipython",
    "version": 3
   },
   "file_extension": ".py",
   "mimetype": "text/x-python",
   "name": "python",
   "nbconvert_exporter": "python",
   "pygments_lexer": "ipython3",
   "version": "3.6.7"
  }
 },
 "nbformat": 4,
 "nbformat_minor": 4
}
